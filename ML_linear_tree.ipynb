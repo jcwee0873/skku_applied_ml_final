{
 "cells": [
  {
   "cell_type": "markdown",
   "id": "e7395d97",
   "metadata": {},
   "source": [
    "# 01. Import Libaray"
   ]
  },
  {
   "cell_type": "code",
   "execution_count": 1,
   "id": "3bde628c",
   "metadata": {},
   "outputs": [],
   "source": [
    "import pandas as pd\n",
    "import numpy as np\n",
    "import itertools\n",
    "import matplotlib.pyplot as plt\n",
    "import matplotlib.image as mpimg\n",
    "%matplotlib inline"
   ]
  },
  {
   "cell_type": "code",
   "execution_count": 2,
   "id": "7e9188a4",
   "metadata": {},
   "outputs": [],
   "source": [
    "import tensorflow as tf"
   ]
  },
  {
   "cell_type": "code",
   "execution_count": 3,
   "id": "d22ce91a",
   "metadata": {},
   "outputs": [],
   "source": [
    "from keras.utils import np_utils,to_categorical\n",
    "from keras.layers import Input\n",
    "from keras.layers.core import Dense, Dropout, Activation, Flatten, Reshape\n",
    "from keras.layers.convolutional import Convolution2D, MaxPooling2D, AveragePooling2D,Conv1D,Conv2D\n",
    "from keras.models import Model\n",
    "from keras.optimizers import SGD\n",
    "from keras.layers import Conv2D, Dense, GlobalAveragePooling2D\n",
    "from keras.applications.vgg16 import VGG16\n",
    "from keras.layers import LSTM, TimeDistributed\n",
    "from keras.layers import LeakyReLU"
   ]
  },
  {
   "cell_type": "code",
   "execution_count": 4,
   "id": "9789dd3d",
   "metadata": {},
   "outputs": [],
   "source": [
    "import seaborn as sns\n",
    "from sklearn.metrics import confusion_matrix\n",
    "from sklearn.preprocessing import MinMaxScaler\n",
    "from sklearn.model_selection import train_test_split\n",
    "import cv2"
   ]
  },
  {
   "cell_type": "code",
   "execution_count": 5,
   "id": "39c4dcf7",
   "metadata": {},
   "outputs": [],
   "source": [
    "from sklearn import metrics"
   ]
  },
  {
   "cell_type": "code",
   "execution_count": 6,
   "id": "537e25f4",
   "metadata": {},
   "outputs": [],
   "source": [
    "test_x = np.load('./test_x.npy')\n",
    "test_y = np.load('./test_y.npy')\n",
    "train_x = np.load('./train_x.npy')\n",
    "train_y = np.load('./train_y.npy')"
   ]
  },
  {
   "cell_type": "code",
   "execution_count": 7,
   "id": "25f448a4",
   "metadata": {},
   "outputs": [],
   "source": [
    "smote_tomek_train_x = np.load('./smote_tomek_train_x.npy')\n",
    "smote_tomek_train_y = np.load('./smote_tomek_train_y.npy')\n",
    "\n",
    "smote_tomek_test_x = np.load('./smote_tomek_test_x.npy')\n",
    "smote_tomek_test_y = np.load('./smote_tomek_test_y.npy')"
   ]
  },
  {
   "cell_type": "code",
   "execution_count": 8,
   "id": "a801a51c",
   "metadata": {},
   "outputs": [],
   "source": [
    "from sklearn.metrics import classification_report"
   ]
  },
  {
   "cell_type": "code",
   "execution_count": 9,
   "id": "e967da9a",
   "metadata": {},
   "outputs": [],
   "source": [
    "train_x = train_x.reshape((train_x.shape[0], train_x.shape[1]*train_x.shape[2]*train_x.shape[3]))\n",
    "test_x = test_x.reshape((test_x.shape[0], test_x.shape[1]*test_x.shape[2]*test_x.shape[3]))"
   ]
  },
  {
   "cell_type": "code",
   "execution_count": 10,
   "id": "fffd4704",
   "metadata": {},
   "outputs": [],
   "source": [
    "smote_tomek_train_x = smote_tomek_train_x.reshape((smote_tomek_train_x.shape[0], smote_tomek_train_x.shape[1]*smote_tomek_train_x.shape[2]*smote_tomek_train_x.shape[3]))\n",
    "smote_tomek_test_x = smote_tomek_test_x.reshape((smote_tomek_test_x.shape[0], smote_tomek_test_x.shape[1]*smote_tomek_test_x.shape[2]*smote_tomek_test_x.shape[3]))"
   ]
  },
  {
   "cell_type": "markdown",
   "id": "58dc79e3",
   "metadata": {},
   "source": [
    "# Random Forest"
   ]
  },
  {
   "cell_type": "code",
   "execution_count": 11,
   "id": "e2bcff30",
   "metadata": {},
   "outputs": [
    {
     "name": "stdout",
     "output_type": "stream",
     "text": [
      "              precision    recall  f1-score   support\n",
      "\n",
      "       angry       0.61      0.13      0.22       290\n",
      "       happy       0.64      0.93      0.76       820\n",
      "         sad       0.51      0.07      0.12       276\n",
      "     neutral       0.53      0.63      0.57       507\n",
      "\n",
      "    accuracy                           0.60      1893\n",
      "   macro avg       0.57      0.44      0.42      1893\n",
      "weighted avg       0.59      0.60      0.53      1893\n",
      "\n",
      "0.6171374346840186\n"
     ]
    }
   ],
   "source": [
    "# 일반 데이터\n",
    "from sklearn.ensemble import RandomForestClassifier\n",
    "\n",
    "clf = RandomForestClassifier(max_depth=100, random_state=10)\n",
    "clf.fit(train_x, train_y)\n",
    "\n",
    "y_true = test_y\n",
    "y_pred = clf.predict(test_x)\n",
    "\n",
    "target_names = ['angry', 'happy', 'sad', 'neutral']\n",
    "\n",
    "print(classification_report(y_true, y_pred, target_names=target_names))\n",
    "\n",
    "fpr, tpr, thresholds = metrics.roc_curve(y_true, y_pred, pos_label=2)\n",
    "print(metrics.auc(fpr, tpr))"
   ]
  },
  {
   "cell_type": "code",
   "execution_count": 12,
   "id": "4ea3aa13",
   "metadata": {},
   "outputs": [
    {
     "name": "stdout",
     "output_type": "stream",
     "text": [
      "              precision    recall  f1-score   support\n",
      "\n",
      "       angry       0.48      0.26      0.34       290\n",
      "       happy       0.69      0.89      0.78       820\n",
      "         sad       0.39      0.16      0.23       276\n",
      "     neutral       0.55      0.61      0.58       507\n",
      "\n",
      "    accuracy                           0.61      1893\n",
      "   macro avg       0.53      0.48      0.48      1893\n",
      "weighted avg       0.58      0.61      0.58      1893\n",
      "\n",
      "0.5929100230342467\n"
     ]
    }
   ],
   "source": [
    "# smote_tomek 데이터\n",
    "from sklearn.ensemble import RandomForestClassifier\n",
    "\n",
    "clf = RandomForestClassifier(max_depth=100, random_state=10)\n",
    "clf.fit(smote_tomek_train_x, smote_tomek_train_y)\n",
    "\n",
    "y_true = smote_tomek_test_y\n",
    "y_pred = clf.predict(smote_tomek_test_x)\n",
    "\n",
    "target_names = ['angry', 'happy', 'sad', 'neutral']\n",
    "\n",
    "print(classification_report(y_true, y_pred, target_names=target_names))\n",
    "\n",
    "fpr, tpr, thresholds = metrics.roc_curve(y_true, y_pred, pos_label=2)\n",
    "print(metrics.auc(fpr, tpr))"
   ]
  },
  {
   "cell_type": "markdown",
   "id": "1091f234",
   "metadata": {},
   "source": [
    "# Decision Tree"
   ]
  },
  {
   "cell_type": "code",
   "execution_count": 13,
   "id": "049eaae6",
   "metadata": {},
   "outputs": [
    {
     "name": "stdout",
     "output_type": "stream",
     "text": [
      "              precision    recall  f1-score   support\n",
      "\n",
      "       angry       0.20      0.22      0.21       290\n",
      "       happy       0.62      0.57      0.59       820\n",
      "         sad       0.20      0.21      0.20       276\n",
      "     neutral       0.40      0.41      0.40       507\n",
      "\n",
      "    accuracy                           0.42      1893\n",
      "   macro avg       0.35      0.35      0.35      1893\n",
      "weighted avg       0.43      0.42      0.43      1893\n",
      "\n",
      "0.5394158981115503\n"
     ]
    }
   ],
   "source": [
    "# 일반 데이터\n",
    "from sklearn import tree\n",
    "\n",
    "clf = tree.DecisionTreeClassifier()\n",
    "clf.fit(train_x, train_y)\n",
    "\n",
    "y_true = test_y\n",
    "y_pred = clf.predict(test_x)\n",
    "\n",
    "target_names = ['angry', 'happy', 'sad', 'neutral']\n",
    "\n",
    "print(classification_report(y_true, y_pred, target_names=target_names))\n",
    "\n",
    "fpr, tpr, thresholds = metrics.roc_curve(y_true, y_pred, pos_label=2)\n",
    "print(metrics.auc(fpr, tpr))"
   ]
  },
  {
   "cell_type": "code",
   "execution_count": 14,
   "id": "39cb2659",
   "metadata": {},
   "outputs": [
    {
     "name": "stdout",
     "output_type": "stream",
     "text": [
      "              precision    recall  f1-score   support\n",
      "\n",
      "       angry       0.24      0.28      0.26       290\n",
      "       happy       0.65      0.57      0.61       820\n",
      "         sad       0.27      0.32      0.29       276\n",
      "     neutral       0.39      0.38      0.39       507\n",
      "\n",
      "    accuracy                           0.44      1893\n",
      "   macro avg       0.39      0.39      0.39      1893\n",
      "weighted avg       0.46      0.44      0.45      1893\n",
      "\n",
      "0.5413843402973838\n"
     ]
    }
   ],
   "source": [
    "# smote_tomek 데이터\n",
    "from sklearn.ensemble import RandomForestClassifier\n",
    "\n",
    "clf = tree.DecisionTreeClassifier()\n",
    "clf.fit(smote_tomek_train_x, smote_tomek_train_y)\n",
    "\n",
    "y_true = smote_tomek_test_y\n",
    "y_pred = clf.predict(smote_tomek_test_x)\n",
    "\n",
    "target_names = ['angry', 'happy', 'sad', 'neutral']\n",
    "\n",
    "print(classification_report(y_true, y_pred, target_names=target_names))\n",
    "\n",
    "fpr, tpr, thresholds = metrics.roc_curve(y_true, y_pred, pos_label=2)\n",
    "print(metrics.auc(fpr, tpr))"
   ]
  },
  {
   "cell_type": "markdown",
   "id": "145dca39",
   "metadata": {},
   "source": [
    "# Support Vector Machine"
   ]
  },
  {
   "cell_type": "code",
   "execution_count": 15,
   "id": "e231109a",
   "metadata": {},
   "outputs": [
    {
     "name": "stdout",
     "output_type": "stream",
     "text": [
      "              precision    recall  f1-score   support\n",
      "\n",
      "       angry       0.58      0.27      0.37       290\n",
      "       happy       0.73      0.88      0.80       820\n",
      "         sad       0.32      0.09      0.14       276\n",
      "     neutral       0.53      0.72      0.61       507\n",
      "\n",
      "    accuracy                           0.63      1893\n",
      "   macro avg       0.54      0.49      0.48      1893\n",
      "weighted avg       0.59      0.63      0.59      1893\n",
      "\n",
      "0.6087270217705001\n"
     ]
    }
   ],
   "source": [
    "# 일반 데이터\n",
    "from sklearn.pipeline import make_pipeline\n",
    "from sklearn.svm import SVC\n",
    "from sklearn.preprocessing import StandardScaler\n",
    "clf = make_pipeline(StandardScaler(), SVC(gamma='auto'))\n",
    "clf.fit(train_x, train_y)\n",
    "\n",
    "y_true = test_y\n",
    "y_pred = clf.predict(test_x)\n",
    "\n",
    "target_names = ['angry', 'happy', 'sad', 'neutral']\n",
    "\n",
    "print(classification_report(y_true, y_pred, target_names=target_names))\n",
    "\n",
    "fpr, tpr, thresholds = metrics.roc_curve(y_true, y_pred, pos_label=2)\n",
    "print(metrics.auc(fpr, tpr))"
   ]
  },
  {
   "cell_type": "code",
   "execution_count": 16,
   "id": "52987596",
   "metadata": {},
   "outputs": [
    {
     "name": "stdout",
     "output_type": "stream",
     "text": [
      "              precision    recall  f1-score   support\n",
      "\n",
      "       angry       0.49      0.37      0.42       290\n",
      "       happy       0.76      0.85      0.80       820\n",
      "         sad       0.39      0.27      0.32       276\n",
      "     neutral       0.57      0.64      0.61       507\n",
      "\n",
      "    accuracy                           0.64      1893\n",
      "   macro avg       0.55      0.53      0.54      1893\n",
      "weighted avg       0.62      0.64      0.62      1893\n",
      "\n",
      "0.6076156417771325\n"
     ]
    }
   ],
   "source": [
    "# smote_tomek 데이터\n",
    "from sklearn.pipeline import make_pipeline\n",
    "from sklearn.svm import SVC\n",
    "from sklearn.preprocessing import StandardScaler\n",
    "clf = make_pipeline(StandardScaler(), SVC(gamma='auto'))\n",
    "clf.fit(smote_tomek_train_x, smote_tomek_train_y)\n",
    "\n",
    "y_true = smote_tomek_test_y\n",
    "y_pred = clf.predict(smote_tomek_test_x)\n",
    "\n",
    "target_names = ['angry', 'happy', 'sad', 'neutral']\n",
    "\n",
    "print(classification_report(y_true, y_pred, target_names=target_names))\n",
    "\n",
    "fpr, tpr, thresholds = metrics.roc_curve(y_true, y_pred, pos_label=2)\n",
    "print(metrics.auc(fpr, tpr))"
   ]
  },
  {
   "cell_type": "markdown",
   "id": "68bf547f",
   "metadata": {},
   "source": [
    "# Naive Bayies"
   ]
  },
  {
   "cell_type": "code",
   "execution_count": 17,
   "id": "51bbd8a6",
   "metadata": {},
   "outputs": [
    {
     "name": "stdout",
     "output_type": "stream",
     "text": [
      "              precision    recall  f1-score   support\n",
      "\n",
      "       angry       0.28      0.35      0.31       290\n",
      "       happy       0.55      0.64      0.59       820\n",
      "         sad       0.26      0.16      0.20       276\n",
      "     neutral       0.37      0.29      0.33       507\n",
      "\n",
      "    accuracy                           0.43      1893\n",
      "   macro avg       0.37      0.36      0.36      1893\n",
      "weighted avg       0.42      0.43      0.42      1893\n",
      "\n",
      "0.543629507138824\n"
     ]
    }
   ],
   "source": [
    "from sklearn.naive_bayes import GaussianNB\n",
    "gnb = GaussianNB()\n",
    "\n",
    "gnb.fit(train_x, train_y)\n",
    "\n",
    "y_true = test_y\n",
    "y_pred = gnb.predict(test_x)\n",
    "\n",
    "target_names = ['angry', 'happy', 'sad', 'neutral']\n",
    "\n",
    "print(classification_report(y_true, y_pred, target_names=target_names))\n",
    "\n",
    "fpr, tpr, thresholds = metrics.roc_curve(y_true, y_pred, pos_label=2)\n",
    "print(metrics.auc(fpr, tpr))"
   ]
  },
  {
   "cell_type": "code",
   "execution_count": 18,
   "id": "c7947e1d",
   "metadata": {
    "scrolled": true
   },
   "outputs": [
    {
     "name": "stdout",
     "output_type": "stream",
     "text": [
      "              precision    recall  f1-score   support\n",
      "\n",
      "       angry       0.23      0.41      0.29       290\n",
      "       happy       0.57      0.54      0.56       820\n",
      "         sad       0.29      0.14      0.19       276\n",
      "     neutral       0.34      0.31      0.33       507\n",
      "\n",
      "    accuracy                           0.40      1893\n",
      "   macro avg       0.36      0.35      0.34      1893\n",
      "weighted avg       0.42      0.40      0.40      1893\n",
      "\n",
      "0.5386932770473143\n"
     ]
    }
   ],
   "source": [
    "from sklearn.naive_bayes import GaussianNB\n",
    "gnb = GaussianNB()\n",
    "\n",
    "gnb.fit(smote_tomek_train_x, smote_tomek_train_y)\n",
    "\n",
    "y_true = smote_tomek_test_y\n",
    "y_pred = gnb.predict(smote_tomek_test_x)\n",
    "\n",
    "target_names = ['angry', 'happy', 'sad', 'neutral']\n",
    "\n",
    "print(classification_report(y_true, y_pred, target_names=target_names))\n",
    "\n",
    "fpr, tpr, thresholds = metrics.roc_curve(y_true, y_pred, pos_label=2)\n",
    "print(metrics.auc(fpr, tpr))"
   ]
  },
  {
   "cell_type": "markdown",
   "id": "581be7fb",
   "metadata": {},
   "source": [
    "# Linear Regression"
   ]
  },
  {
   "cell_type": "code",
   "execution_count": 19,
   "id": "559d6fdc",
   "metadata": {},
   "outputs": [
    {
     "name": "stdout",
     "output_type": "stream",
     "text": [
      "              precision    recall  f1-score   support\n",
      "\n",
      "       angry       0.23      0.41      0.29       290\n",
      "       happy       0.57      0.54      0.56       820\n",
      "         sad       0.29      0.14      0.19       276\n",
      "     neutral       0.34      0.31      0.33       507\n",
      "\n",
      "    accuracy                           0.40      1893\n",
      "   macro avg       0.36      0.35      0.34      1893\n",
      "weighted avg       0.42      0.40      0.40      1893\n",
      "\n",
      "0.5386932770473143\n"
     ]
    }
   ],
   "source": [
    "from sklearn.linear_model import LinearRegression\n",
    "reg = LinearRegression().fit(train_x, train_y)\n",
    "\n",
    "y_true = test_y\n",
    "y_pred = gnb.predict(test_x)\n",
    "\n",
    "target_names = ['angry', 'happy', 'sad', 'neutral']\n",
    "\n",
    "print(classification_report(y_true, y_pred, target_names=target_names))\n",
    "\n",
    "fpr, tpr, thresholds = metrics.roc_curve(y_true, y_pred, pos_label=2)\n",
    "print(metrics.auc(fpr, tpr))"
   ]
  },
  {
   "cell_type": "code",
   "execution_count": 20,
   "id": "ea629db2",
   "metadata": {},
   "outputs": [
    {
     "name": "stdout",
     "output_type": "stream",
     "text": [
      "              precision    recall  f1-score   support\n",
      "\n",
      "       angry       0.23      0.41      0.29       290\n",
      "       happy       0.57      0.54      0.56       820\n",
      "         sad       0.29      0.14      0.19       276\n",
      "     neutral       0.34      0.31      0.33       507\n",
      "\n",
      "    accuracy                           0.40      1893\n",
      "   macro avg       0.36      0.35      0.34      1893\n",
      "weighted avg       0.42      0.40      0.40      1893\n",
      "\n",
      "0.5386932770473143\n"
     ]
    }
   ],
   "source": [
    "from sklearn.linear_model import LinearRegression\n",
    "reg = LinearRegression().fit(smote_tomek_train_x, smote_tomek_train_y)\n",
    "\n",
    "y_true = smote_tomek_test_y\n",
    "y_pred = gnb.predict(smote_tomek_test_x)\n",
    "\n",
    "target_names = ['angry', 'happy', 'sad', 'neutral']\n",
    "\n",
    "print(classification_report(y_true, y_pred, target_names=target_names))\n",
    "\n",
    "fpr, tpr, thresholds = metrics.roc_curve(y_true, y_pred, pos_label=2)\n",
    "print(metrics.auc(fpr, tpr))"
   ]
  }
 ],
 "metadata": {
  "kernelspec": {
   "display_name": "Python 3 (ipykernel)",
   "language": "python",
   "name": "python3"
  },
  "language_info": {
   "codemirror_mode": {
    "name": "ipython",
    "version": 3
   },
   "file_extension": ".py",
   "mimetype": "text/x-python",
   "name": "python",
   "nbconvert_exporter": "python",
   "pygments_lexer": "ipython3",
   "version": "3.9.15"
  }
 },
 "nbformat": 4,
 "nbformat_minor": 5
}
